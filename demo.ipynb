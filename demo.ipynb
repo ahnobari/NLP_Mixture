{
 "cells": [
  {
   "cell_type": "code",
   "execution_count": 1,
   "metadata": {},
   "outputs": [
    {
     "name": "stderr",
     "output_type": "stream",
     "text": [
      "/home/amin/miniforge3/envs/VLLM/lib/python3.10/site-packages/gradio/components/chatbot.py:243: UserWarning: The 'tuples' format for chatbot messages is deprecated and will be removed in a future version of Gradio. Please set type='messages' instead, which uses openai-style 'role' and 'content' keys.\n",
      "  warnings.warn(\n"
     ]
    },
    {
     "name": "stdout",
     "output_type": "stream",
     "text": [
      "* Running on local URL:  http://127.0.0.1:7860\n",
      "* Running on public URL: https://89db2f0f5607278f88.gradio.live\n",
      "\n",
      "This share link expires in 72 hours. For free permanent hosting and GPU upgrades, run `gradio deploy` from the terminal in the working directory to deploy to Hugging Face Spaces (https://huggingface.co/spaces)\n"
     ]
    },
    {
     "data": {
      "text/html": [
       "<div><iframe src=\"https://89db2f0f5607278f88.gradio.live\" width=\"100%\" height=\"500\" allow=\"autoplay; camera; microphone; clipboard-read; clipboard-write;\" frameborder=\"0\" allowfullscreen></iframe></div>"
      ],
      "text/plain": [
       "<IPython.core.display.HTML object>"
      ]
     },
     "metadata": {},
     "output_type": "display_data"
    },
    {
     "data": {
      "text/plain": []
     },
     "execution_count": 1,
     "metadata": {},
     "output_type": "execute_result"
    }
   ],
   "source": [
    "import argparse\n",
    "\n",
    "import gradio as gr\n",
    "from openai import OpenAI\n",
    "\n",
    "# Argument parser setup\n",
    "# parser = argparse.ArgumentParser(\n",
    "#     description='Chatbot Interface with Customizable Parameters')\n",
    "# parser.add_argument('--model-url',\n",
    "#                     type=str,\n",
    "#                     default='http://localhost:8000/v1',\n",
    "#                     help='Model URL')\n",
    "# parser.add_argument('-m',\n",
    "#                     '--model',\n",
    "#                     type=str,\n",
    "#                     required=True,\n",
    "#                     help='Model name for the chatbot')\n",
    "# parser.add_argument('--temp',\n",
    "#                     type=float,\n",
    "#                     default=0.8,\n",
    "#                     help='Temperature for text generation')\n",
    "# parser.add_argument('--stop-token-ids',\n",
    "#                     type=str,\n",
    "#                     default='',\n",
    "#                     help='Comma-separated stop token IDs')\n",
    "# parser.add_argument(\"--host\", type=str, default=None)\n",
    "# parser.add_argument(\"--port\", type=int, default=8001)\n",
    "\n",
    "# # Parse the arguments\n",
    "# args = parser.parse_args()\n",
    "\n",
    "# Set OpenAI's API key and API base to use vLLM's API server.\n",
    "openai_api_key = \"EMPTY\"\n",
    "openai_api_base = \"http://localhost:8000/v1\"\n",
    "\n",
    "# Create an OpenAI client to interact with the API server\n",
    "client = OpenAI(\n",
    "    api_key=openai_api_key,\n",
    "    base_url=openai_api_base,\n",
    ")\n",
    "\n",
    "\n",
    "def predict(message, history):\n",
    "    # Convert chat history to OpenAI format\n",
    "    history_openai_format = [{\n",
    "        \"role\": \"system\",\n",
    "        \"content\": \"You are a great ai assistant.\"\n",
    "    }]\n",
    "    for human, assistant in history:\n",
    "        history_openai_format.append({\"role\": \"user\", \"content\": human})\n",
    "        history_openai_format.append({\n",
    "            \"role\": \"assistant\",\n",
    "            \"content\": assistant\n",
    "        })\n",
    "    history_openai_format.append({\"role\": \"user\", \"content\": message})\n",
    "\n",
    "    # Create a chat completion request and send it to the API server\n",
    "    stream = client.chat.completions.create(\n",
    "        model=\"ActiveM_Final_n\",  # Model name to use\n",
    "        messages=history_openai_format,  # Chat history\n",
    "        temperature=0.1,  # Temperature for text generation\n",
    "        stream=True,  # Stream response\n",
    "        max_completion_tokens = 1024,\n",
    "        extra_body={\n",
    "            'repetition_penalty':\n",
    "            1,\n",
    "            'stop_token_ids': [\n",
    "                int(id.strip()) for id in \"\".split(',')\n",
    "                if id.strip()\n",
    "            ] if None else []\n",
    "        })\n",
    "\n",
    "    # Read and return generated text from response stream\n",
    "    partial_message = \"\"\n",
    "    for chunk in stream:\n",
    "        partial_message += (chunk.choices[0].delta.content or \"\")\n",
    "        yield partial_message\n",
    "\n",
    "\n",
    "# Create and launch a chat interface with Gradio\n",
    "gr.ChatInterface(predict).queue().launch(share=True)"
   ]
  },
  {
   "cell_type": "code",
   "execution_count": null,
   "metadata": {},
   "outputs": [],
   "source": []
  }
 ],
 "metadata": {
  "kernelspec": {
   "display_name": "VLLM",
   "language": "python",
   "name": "python3"
  },
  "language_info": {
   "codemirror_mode": {
    "name": "ipython",
    "version": 3
   },
   "file_extension": ".py",
   "mimetype": "text/x-python",
   "name": "python",
   "nbconvert_exporter": "python",
   "pygments_lexer": "ipython3",
   "version": "3.10.0"
  }
 },
 "nbformat": 4,
 "nbformat_minor": 2
}
